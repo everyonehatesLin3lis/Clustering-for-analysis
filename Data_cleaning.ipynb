{
 "cells": [
  {
   "cell_type": "markdown",
   "metadata": {},
   "source": [
    "# Data cleaning\n",
    "The 2016 US Election dataset for primary results contains 3 data tables:\n",
    "- Primary_results\n",
    "- County_facts\n",
    "- County_facts_dictionary\n",
    "\n",
    "### Download\n",
    "Data is able to download : https://www.kaggle.com/datasets/benhamner/2016-us-election/"
   ]
  },
  {
   "cell_type": "markdown",
   "metadata": {},
   "source": [
    "### Data\n",
    "- 'primary_data' contains information about state, county, parties and how much each candidate collected votes and fraction size of it.\n",
    "- 'county_facts' dataset contains demographic information such as area names (counties) and the population distribution within those areas.\n",
    "- 'country_facts_dictionary' contains explanations of codes in 'County_facts' columns names."
   ]
  },
  {
   "cell_type": "code",
   "execution_count": 1,
   "metadata": {},
   "outputs": [],
   "source": [
    "import pandas as pd"
   ]
  },
  {
   "cell_type": "code",
   "execution_count": 6,
   "metadata": {},
   "outputs": [],
   "source": [
    "import sys, os\n",
    "\n",
    "path = os.path.normpath(os.path.abspath(os.path.join(os.path.dirname('__file__'), os.path.pardir, 'Data_original')))\n",
    "if (not (path in sys.path)) :\n",
    "    sys.path.append(path)\n",
    "\n",
    "script_dir = os.path.dirname('Data_original')\n",
    "csv_file_path = os.path.join(script_dir, 'Data_original')"
   ]
  },
  {
   "cell_type": "code",
   "execution_count": 7,
   "metadata": {},
   "outputs": [
    {
     "data": {
      "text/html": [
       "<div>\n",
       "<style scoped>\n",
       "    .dataframe tbody tr th:only-of-type {\n",
       "        vertical-align: middle;\n",
       "    }\n",
       "\n",
       "    .dataframe tbody tr th {\n",
       "        vertical-align: top;\n",
       "    }\n",
       "\n",
       "    .dataframe thead th {\n",
       "        text-align: right;\n",
       "    }\n",
       "</style>\n",
       "<table border=\"1\" class=\"dataframe\">\n",
       "  <thead>\n",
       "    <tr style=\"text-align: right;\">\n",
       "      <th></th>\n",
       "      <th>state</th>\n",
       "      <th>state_abbreviation</th>\n",
       "      <th>county</th>\n",
       "      <th>fips</th>\n",
       "      <th>party</th>\n",
       "      <th>candidate</th>\n",
       "      <th>votes</th>\n",
       "      <th>fraction_votes</th>\n",
       "    </tr>\n",
       "  </thead>\n",
       "  <tbody>\n",
       "    <tr>\n",
       "      <th>0</th>\n",
       "      <td>District of Columbia</td>\n",
       "      <td>DC</td>\n",
       "      <td>District of Columbia</td>\n",
       "      <td>11001.0</td>\n",
       "      <td>Democrat</td>\n",
       "      <td>Hillary Clinton</td>\n",
       "      <td>282830.0</td>\n",
       "      <td>0.9086</td>\n",
       "    </tr>\n",
       "    <tr>\n",
       "      <th>1</th>\n",
       "      <td>District of Columbia</td>\n",
       "      <td>DC</td>\n",
       "      <td>District of Columbia</td>\n",
       "      <td>11001.0</td>\n",
       "      <td>Republican</td>\n",
       "      <td>Donald Trump</td>\n",
       "      <td>12723.0</td>\n",
       "      <td>0.0409</td>\n",
       "    </tr>\n",
       "    <tr>\n",
       "      <th>2</th>\n",
       "      <td>Minnesota</td>\n",
       "      <td>MN</td>\n",
       "      <td>Aitkin</td>\n",
       "      <td>27001.0</td>\n",
       "      <td>Democrat</td>\n",
       "      <td>Bernie Sanders</td>\n",
       "      <td>1014.0</td>\n",
       "      <td>0.2380</td>\n",
       "    </tr>\n",
       "    <tr>\n",
       "      <th>3</th>\n",
       "      <td>Minnesota</td>\n",
       "      <td>MN</td>\n",
       "      <td>Aitkin</td>\n",
       "      <td>27001.0</td>\n",
       "      <td>Democrat</td>\n",
       "      <td>Hillary Clinton</td>\n",
       "      <td>2981.0</td>\n",
       "      <td>0.7020</td>\n",
       "    </tr>\n",
       "    <tr>\n",
       "      <th>4</th>\n",
       "      <td>Minnesota</td>\n",
       "      <td>MN</td>\n",
       "      <td>Aitkin</td>\n",
       "      <td>27001.0</td>\n",
       "      <td>Republican</td>\n",
       "      <td>Donald Trump</td>\n",
       "      <td>4500.0</td>\n",
       "      <td>0.6000</td>\n",
       "    </tr>\n",
       "  </tbody>\n",
       "</table>\n",
       "</div>"
      ],
      "text/plain": [
       "                  state state_abbreviation                county     fips   \n",
       "0  District of Columbia                 DC  District of Columbia  11001.0  \\\n",
       "1  District of Columbia                 DC  District of Columbia  11001.0   \n",
       "2             Minnesota                 MN                Aitkin  27001.0   \n",
       "3             Minnesota                 MN                Aitkin  27001.0   \n",
       "4             Minnesota                 MN                Aitkin  27001.0   \n",
       "\n",
       "        party        candidate     votes  fraction_votes  \n",
       "0    Democrat  Hillary Clinton  282830.0          0.9086  \n",
       "1  Republican     Donald Trump   12723.0          0.0409  \n",
       "2    Democrat   Bernie Sanders    1014.0          0.2380  \n",
       "3    Democrat  Hillary Clinton    2981.0          0.7020  \n",
       "4  Republican     Donald Trump    4500.0          0.6000  "
      ]
     },
     "execution_count": 7,
     "metadata": {},
     "output_type": "execute_result"
    }
   ],
   "source": [
    "primary_results = pd.read_csv(os.path.join(csv_file_path, \"primary_results.csv\"))\n",
    "primary_results.head()"
   ]
  },
  {
   "cell_type": "code",
   "execution_count": 8,
   "metadata": {},
   "outputs": [
    {
     "data": {
      "text/html": [
       "<div>\n",
       "<style scoped>\n",
       "    .dataframe tbody tr th:only-of-type {\n",
       "        vertical-align: middle;\n",
       "    }\n",
       "\n",
       "    .dataframe tbody tr th {\n",
       "        vertical-align: top;\n",
       "    }\n",
       "\n",
       "    .dataframe thead th {\n",
       "        text-align: right;\n",
       "    }\n",
       "</style>\n",
       "<table border=\"1\" class=\"dataframe\">\n",
       "  <thead>\n",
       "    <tr style=\"text-align: right;\">\n",
       "      <th></th>\n",
       "      <th>fips</th>\n",
       "      <th>area_name</th>\n",
       "      <th>state_abbreviation</th>\n",
       "      <th>PST045214</th>\n",
       "      <th>PST040210</th>\n",
       "      <th>PST120214</th>\n",
       "      <th>POP010210</th>\n",
       "      <th>AGE135214</th>\n",
       "      <th>AGE295214</th>\n",
       "      <th>AGE775214</th>\n",
       "      <th>...</th>\n",
       "      <th>SBO415207</th>\n",
       "      <th>SBO015207</th>\n",
       "      <th>MAN450207</th>\n",
       "      <th>WTN220207</th>\n",
       "      <th>RTN130207</th>\n",
       "      <th>RTN131207</th>\n",
       "      <th>AFN120207</th>\n",
       "      <th>BPS030214</th>\n",
       "      <th>LND110210</th>\n",
       "      <th>POP060210</th>\n",
       "    </tr>\n",
       "  </thead>\n",
       "  <tbody>\n",
       "    <tr>\n",
       "      <th>0</th>\n",
       "      <td>0</td>\n",
       "      <td>United States</td>\n",
       "      <td>NaN</td>\n",
       "      <td>318857056</td>\n",
       "      <td>308758105</td>\n",
       "      <td>3.3</td>\n",
       "      <td>308745538</td>\n",
       "      <td>6.2</td>\n",
       "      <td>23.1</td>\n",
       "      <td>14.5</td>\n",
       "      <td>...</td>\n",
       "      <td>8.3</td>\n",
       "      <td>28.8</td>\n",
       "      <td>5319456312</td>\n",
       "      <td>4174286516</td>\n",
       "      <td>3917663456</td>\n",
       "      <td>12990</td>\n",
       "      <td>613795732</td>\n",
       "      <td>1046363</td>\n",
       "      <td>3531905.43</td>\n",
       "      <td>87.4</td>\n",
       "    </tr>\n",
       "    <tr>\n",
       "      <th>1</th>\n",
       "      <td>1000</td>\n",
       "      <td>Alabama</td>\n",
       "      <td>NaN</td>\n",
       "      <td>4849377</td>\n",
       "      <td>4780127</td>\n",
       "      <td>1.4</td>\n",
       "      <td>4779736</td>\n",
       "      <td>6.1</td>\n",
       "      <td>22.8</td>\n",
       "      <td>15.3</td>\n",
       "      <td>...</td>\n",
       "      <td>1.2</td>\n",
       "      <td>28.1</td>\n",
       "      <td>112858843</td>\n",
       "      <td>52252752</td>\n",
       "      <td>57344851</td>\n",
       "      <td>12364</td>\n",
       "      <td>6426342</td>\n",
       "      <td>13369</td>\n",
       "      <td>50645.33</td>\n",
       "      <td>94.4</td>\n",
       "    </tr>\n",
       "    <tr>\n",
       "      <th>2</th>\n",
       "      <td>1001</td>\n",
       "      <td>Autauga County</td>\n",
       "      <td>AL</td>\n",
       "      <td>55395</td>\n",
       "      <td>54571</td>\n",
       "      <td>1.5</td>\n",
       "      <td>54571</td>\n",
       "      <td>6.0</td>\n",
       "      <td>25.2</td>\n",
       "      <td>13.8</td>\n",
       "      <td>...</td>\n",
       "      <td>0.7</td>\n",
       "      <td>31.7</td>\n",
       "      <td>0</td>\n",
       "      <td>0</td>\n",
       "      <td>598175</td>\n",
       "      <td>12003</td>\n",
       "      <td>88157</td>\n",
       "      <td>131</td>\n",
       "      <td>594.44</td>\n",
       "      <td>91.8</td>\n",
       "    </tr>\n",
       "    <tr>\n",
       "      <th>3</th>\n",
       "      <td>1003</td>\n",
       "      <td>Baldwin County</td>\n",
       "      <td>AL</td>\n",
       "      <td>200111</td>\n",
       "      <td>182265</td>\n",
       "      <td>9.8</td>\n",
       "      <td>182265</td>\n",
       "      <td>5.6</td>\n",
       "      <td>22.2</td>\n",
       "      <td>18.7</td>\n",
       "      <td>...</td>\n",
       "      <td>1.3</td>\n",
       "      <td>27.3</td>\n",
       "      <td>1410273</td>\n",
       "      <td>0</td>\n",
       "      <td>2966489</td>\n",
       "      <td>17166</td>\n",
       "      <td>436955</td>\n",
       "      <td>1384</td>\n",
       "      <td>1589.78</td>\n",
       "      <td>114.6</td>\n",
       "    </tr>\n",
       "    <tr>\n",
       "      <th>4</th>\n",
       "      <td>1005</td>\n",
       "      <td>Barbour County</td>\n",
       "      <td>AL</td>\n",
       "      <td>26887</td>\n",
       "      <td>27457</td>\n",
       "      <td>-2.1</td>\n",
       "      <td>27457</td>\n",
       "      <td>5.7</td>\n",
       "      <td>21.2</td>\n",
       "      <td>16.5</td>\n",
       "      <td>...</td>\n",
       "      <td>0.0</td>\n",
       "      <td>27.0</td>\n",
       "      <td>0</td>\n",
       "      <td>0</td>\n",
       "      <td>188337</td>\n",
       "      <td>6334</td>\n",
       "      <td>0</td>\n",
       "      <td>8</td>\n",
       "      <td>884.88</td>\n",
       "      <td>31.0</td>\n",
       "    </tr>\n",
       "  </tbody>\n",
       "</table>\n",
       "<p>5 rows × 54 columns</p>\n",
       "</div>"
      ],
      "text/plain": [
       "   fips       area_name state_abbreviation  PST045214  PST040210  PST120214   \n",
       "0     0   United States                NaN  318857056  308758105        3.3  \\\n",
       "1  1000         Alabama                NaN    4849377    4780127        1.4   \n",
       "2  1001  Autauga County                 AL      55395      54571        1.5   \n",
       "3  1003  Baldwin County                 AL     200111     182265        9.8   \n",
       "4  1005  Barbour County                 AL      26887      27457       -2.1   \n",
       "\n",
       "   POP010210  AGE135214  AGE295214  AGE775214  ...  SBO415207  SBO015207   \n",
       "0  308745538        6.2       23.1       14.5  ...        8.3       28.8  \\\n",
       "1    4779736        6.1       22.8       15.3  ...        1.2       28.1   \n",
       "2      54571        6.0       25.2       13.8  ...        0.7       31.7   \n",
       "3     182265        5.6       22.2       18.7  ...        1.3       27.3   \n",
       "4      27457        5.7       21.2       16.5  ...        0.0       27.0   \n",
       "\n",
       "    MAN450207   WTN220207   RTN130207  RTN131207  AFN120207  BPS030214   \n",
       "0  5319456312  4174286516  3917663456      12990  613795732    1046363  \\\n",
       "1   112858843    52252752    57344851      12364    6426342      13369   \n",
       "2           0           0      598175      12003      88157        131   \n",
       "3     1410273           0     2966489      17166     436955       1384   \n",
       "4           0           0      188337       6334          0          8   \n",
       "\n",
       "    LND110210  POP060210  \n",
       "0  3531905.43       87.4  \n",
       "1    50645.33       94.4  \n",
       "2      594.44       91.8  \n",
       "3     1589.78      114.6  \n",
       "4      884.88       31.0  \n",
       "\n",
       "[5 rows x 54 columns]"
      ]
     },
     "execution_count": 8,
     "metadata": {},
     "output_type": "execute_result"
    }
   ],
   "source": [
    "country_facts = pd.read_csv(os.path.join(csv_file_path,\"county_facts.csv\"))\n",
    "country_facts.head()"
   ]
  },
  {
   "cell_type": "code",
   "execution_count": 9,
   "metadata": {},
   "outputs": [],
   "source": [
    "county_data = country_facts"
   ]
  },
  {
   "cell_type": "code",
   "execution_count": 10,
   "metadata": {},
   "outputs": [
    {
     "data": {
      "text/html": [
       "<div>\n",
       "<style scoped>\n",
       "    .dataframe tbody tr th:only-of-type {\n",
       "        vertical-align: middle;\n",
       "    }\n",
       "\n",
       "    .dataframe tbody tr th {\n",
       "        vertical-align: top;\n",
       "    }\n",
       "\n",
       "    .dataframe thead th {\n",
       "        text-align: right;\n",
       "    }\n",
       "</style>\n",
       "<table border=\"1\" class=\"dataframe\">\n",
       "  <thead>\n",
       "    <tr style=\"text-align: right;\">\n",
       "      <th></th>\n",
       "      <th>column_name</th>\n",
       "      <th>description</th>\n",
       "    </tr>\n",
       "  </thead>\n",
       "  <tbody>\n",
       "    <tr>\n",
       "      <th>0</th>\n",
       "      <td>PST045214</td>\n",
       "      <td>Population, 2014 estimate</td>\n",
       "    </tr>\n",
       "    <tr>\n",
       "      <th>1</th>\n",
       "      <td>PST040210</td>\n",
       "      <td>Population, 2010 (April 1) estimates base</td>\n",
       "    </tr>\n",
       "    <tr>\n",
       "      <th>2</th>\n",
       "      <td>PST120214</td>\n",
       "      <td>Population, percent change - April 1, 2010 to ...</td>\n",
       "    </tr>\n",
       "    <tr>\n",
       "      <th>3</th>\n",
       "      <td>POP010210</td>\n",
       "      <td>Population, 2010</td>\n",
       "    </tr>\n",
       "    <tr>\n",
       "      <th>4</th>\n",
       "      <td>AGE135214</td>\n",
       "      <td>Persons under 5 years, percent, 2014</td>\n",
       "    </tr>\n",
       "  </tbody>\n",
       "</table>\n",
       "</div>"
      ],
      "text/plain": [
       "  column_name                                        description\n",
       "0   PST045214                          Population, 2014 estimate\n",
       "1   PST040210          Population, 2010 (April 1) estimates base\n",
       "2   PST120214  Population, percent change - April 1, 2010 to ...\n",
       "3   POP010210                                   Population, 2010\n",
       "4   AGE135214               Persons under 5 years, percent, 2014"
      ]
     },
     "execution_count": 10,
     "metadata": {},
     "output_type": "execute_result"
    }
   ],
   "source": [
    "country_facts_dictionary = pd.read_csv(os.path.join(csv_file_path,\"county_facts_dictionary.csv\"))\n",
    "country_facts_dictionary.head()"
   ]
  },
  {
   "cell_type": "code",
   "execution_count": 32,
   "metadata": {},
   "outputs": [],
   "source": [
    "republican_votes = primary_results[primary_results['party'] == 'Republican']\n",
    "democrat_votes = primary_results[primary_results['party'] == 'Democrat']\n",
    "\n",
    "# Define custom aggregation function to find the candidate with the most votes\n",
    "def max_votes_candidate(df: pd.DataFrame):\n",
    "    \"\"\"\n",
    "    Calculating the index of the maximum value in two columns 'votes'\n",
    "    and 'fraction_votes'. It then creates a Pandas Series\n",
    "    containing information about the winning candidate.\n",
    "    \"\"\"\n",
    "    max_votes_idx = df['votes'].idxmax()\n",
    "    max_fraction_votes_idx = df['fraction_votes'].idxmax()\n",
    "    return pd.Series({'Vote': df.loc[max_fraction_votes_idx, 'fraction_votes'],\n",
    "                      'votes': df.loc[max_votes_idx, 'votes'],\n",
    "                      'winner': df.loc[max_votes_idx, 'candidate']})\n",
    "\n",
    "# Group by state_abbreviation and county and summarize for each party\n",
    "republican_votes = republican_votes.groupby(['state_abbreviation', 'fips']).apply(max_votes_candidate).reset_index()\n",
    "democrat_votes = democrat_votes.groupby(['state_abbreviation', 'fips']).apply(max_votes_candidate).reset_index()"
   ]
  },
  {
   "cell_type": "markdown",
   "metadata": {},
   "source": [
    "Data for futher analysis has been divided into two datasets:\n",
    "- 'respublican_votes'\n",
    "- 'democrat_votes'\n",
    "\n",
    "Some data is missing, for Minnesota and DC Columbia, which been adjusted via Excel.\n",
    "Sources:\n",
    "- Minnesota: https://www.politico.com/2016-election/results/map/president/minnesota/\n",
    "- DC Columbia: https://uselectionatlas.org/RESULTS/state.php?year=2016&fips=11&off=0&elect=0"
   ]
  },
  {
   "cell_type": "code",
   "execution_count": 33,
   "metadata": {},
   "outputs": [],
   "source": [
    "county_data.rename(columns= {\"PST045214\": \"Population, 2014 estimate\",\n",
    "                        \"PST040210\": \"Population, 2010 (April 1) estimates base\",\n",
    "                        \"PST120214\": \"Population, percent change - April 1, 2010 to July 1, 2014\",\n",
    "                        \"POP010210\": \"Population, 2010\",\n",
    "                        \"AGE135214\": \"Persons under 5 years, percent, 2014\",\n",
    "                        \"AGE295214\": \"Persons under 18 years, percent, 2014\",\n",
    "                        \"AGE775214\": \"Persons 65 years and over, percent, 2014\",\n",
    "                        \"SEX255214\": \"Female persons, percent, 2014\",\n",
    "                        \"RHI125214\": \"White alone, percent, 2014\",\n",
    "                        \"RHI225214\": \"Black or African American alone, percent, 2014\",\n",
    "                        \"RHI325214\": \"American Indian and Alaska Native alone, percent, 2014\",\n",
    "                        \"RHI425214\": \"Asian alone, percent, 2014\",\n",
    "                        \"RHI525214\": \"Native Hawaiian and Other Pacific Islander alone, percent, 2014\",\n",
    "                        \"RHI625214\": \"Two or More Races, percent, 2014\",\n",
    "                        \"RHI725214\": \"Hispanic or Latino, percent, 2014\",\n",
    "                        \"RHI825214\": \"White alone, not Hispanic or Latino, percent, 2014\",\n",
    "                        \"POP715213\": \"Living in same house 1 year & over, percent, 2009-2013\",\n",
    "                        \"POP645213\": \"Foreign born persons, percent, 2009-2013\",\n",
    "                        \"POP815213\": \"Language other than English spoken at home, percent, age 5+, 2009-2013\",\n",
    "                        \"EDU635213\": \"High school graduate or higher, percent of persons age 25+, 2009-2013\",\n",
    "                        \"EDU685213\": \"Bachelor's degree or higher, percent of persons age 25+, 2009-2013\",\n",
    "                        \"VET605213\": \"Veterans, 2009-2013\",\n",
    "                        \"LFE305213\": \"Mean travel time to work (minutes), workers age 16+, 2009-2013\",\n",
    "                        \"HSG010214\": \"Housing units, 2014\",\n",
    "                        \"HSG445213\": \"Homeownership rate, 2009-2013\",\n",
    "                        \"HSG096213\": \"Housing units in multi-unit structures, percent, 2009-2013\",\n",
    "                        \"HSG495213\": \"Median value of owner-occupied housing units, 2009-2013\",\n",
    "                        \"HSD410213\": \"Households, 2009-2013\",\n",
    "                        \"HSD310213\": \"Persons per household, 2009-2013\",\n",
    "                        \"INC910213\": \"Per capita money income in past 12 months (2013 dollars), 2009-2013\",\n",
    "                        \"INC110213\": \"Median household income, 2009-2013\",\n",
    "                        \"PVY020213\": \"Persons below poverty level, percent, 2009-2013\",\n",
    "                        \"BZA010213\": \"Private nonfarm establishments, 2013\",\n",
    "                        \"BZA110213\": \"Private nonfarm employment, 2013\",\n",
    "                        \"BZA115213\": \"Private nonfarm employment, percent change, 2012-2013\",\n",
    "                        \"NES010213\": \"Nonemployer establishments, 2013\",\n",
    "                        \"SBO001207\": \"Total number of firms, 2007\",\n",
    "                        \"SBO315207\": \"Black-owned firms, percent, 2007\",\n",
    "                        \"SBO115207\": \"American Indian- and Alaska Native-owned firms, percent, 2007\",\n",
    "                        \"SBO215207\": \"Asian-owned firms, percent, 2007\",\n",
    "                        \"SBO515207\": \"Native Hawaiian- and Other Pacific Islander-owned firms, percent, 2007\",\n",
    "                        \"SBO415207\": \"Hispanic-owned firms, percent, 2007\",\n",
    "                        \"SBO015207\": \"Women-owned firms, percent, 2007\",\n",
    "                        \"MAN450207\": \"Manufacturers shipments, 2007 ($1,000)\",\n",
    "                        \"WTN220207\": \"Merchant wholesaler sales, 2007 ($1,000)\",\n",
    "                        \"RTN130207\": \"Retail sales, 2007 ($1,000)\",\n",
    "                        \"RTN131207\": \"Retail sales per capita, 2007\",\n",
    "                        \"AFN120207\": \"Accommodation and food services sales, 2007 ($1,000)\",\n",
    "                        \"BPS030214\": \"Building permits, 2014\",\n",
    "                        \"LND110210\": \"Land area in square miles, 2010\",\n",
    "                        \"POP060210\": \"Population per square mile, 2010\"}, inplace=True)"
   ]
  },
  {
   "cell_type": "markdown",
   "metadata": {},
   "source": [
    "'county_data' (before 'county_facts') columns names codes been renamed after 'county_facts_dictionary' explanations."
   ]
  },
  {
   "cell_type": "markdown",
   "metadata": {},
   "source": [
    "### Respublican data"
   ]
  },
  {
   "cell_type": "code",
   "execution_count": 34,
   "metadata": {},
   "outputs": [],
   "source": [
    "republican_votes_grouped_state = primary_results[primary_results['party'] == 'Republican'].groupby('state').apply(max_votes_candidate).reset_index()\n",
    "county_data['state'] = county_data['area_name']\n",
    "republican_votes_x_county_data = pd.merge(republican_votes_grouped_state, county_data, on='state', how='inner')"
   ]
  },
  {
   "cell_type": "code",
   "execution_count": 9,
   "metadata": {},
   "outputs": [],
   "source": [
    "csv_file_path = \"republican_votes_x_county_data.csv\"\n",
    "republican_votes_x_county_data.to_csv(csv_file_path, index=False)"
   ]
  },
  {
   "cell_type": "code",
   "execution_count": 35,
   "metadata": {},
   "outputs": [],
   "source": [
    "republican_votes_grouped_county = primary_results[primary_results['party'] == 'Republican'].groupby('county').apply(max_votes_candidate).reset_index()\n",
    "county_data['state'] = county_data['state'].str.replace(\" County\", \"\")\n",
    "republican_votes_grouped_county.rename(columns={'county': 'state'}, inplace=True)\n",
    "republican_votes_x_county_data_county = pd.merge(republican_votes_grouped_county, county_data, on='state', how='inner')"
   ]
  },
  {
   "cell_type": "code",
   "execution_count": 36,
   "metadata": {},
   "outputs": [
    {
     "data": {
      "text/plain": [
       "winner\n",
       "Donald Trump    2044\n",
       "Ted Cruz         638\n",
       "John Kasich      109\n",
       "Marco Rubio       49\n",
       "Ben Carson         1\n",
       "Name: count, dtype: int64"
      ]
     },
     "execution_count": 36,
     "metadata": {},
     "output_type": "execute_result"
    }
   ],
   "source": [
    "winner_counts_republicans = republican_votes_x_county_data_county.winner.value_counts()\n",
    "winner_counts_republicans"
   ]
  },
  {
   "cell_type": "markdown",
   "metadata": {},
   "source": [
    "As we can see Ben Carson Won only in one city so we will drop him as an outlier"
   ]
  },
  {
   "cell_type": "code",
   "execution_count": 12,
   "metadata": {},
   "outputs": [],
   "source": [
    "republican_votes_x_county_data_county = republican_votes_x_county_data_county[republican_votes_x_county_data_county.winner != 'Ben Carson']"
   ]
  },
  {
   "cell_type": "code",
   "execution_count": 13,
   "metadata": {},
   "outputs": [],
   "source": [
    "csv_file_path = \"republican_votes_x_county_data_county.csv\"\n",
    "republican_votes_x_county_data_county.to_csv(csv_file_path, index=False)"
   ]
  },
  {
   "cell_type": "markdown",
   "metadata": {},
   "source": [
    "### Democrat data"
   ]
  },
  {
   "cell_type": "code",
   "execution_count": 37,
   "metadata": {},
   "outputs": [],
   "source": [
    "democrat_votes_grouped_state = primary_results[primary_results['party'] == 'Democrat'].groupby('state').apply(max_votes_candidate).reset_index()\n",
    "county_data['state'] = county_data['area_name']\n",
    "democrat_votes_x_county_data = pd.merge(democrat_votes_grouped_state, country_facts, on='state', how='inner')"
   ]
  },
  {
   "cell_type": "code",
   "execution_count": 15,
   "metadata": {},
   "outputs": [],
   "source": [
    "csv_file_path = \"democrat_votes_x_county_data.csv\"\n",
    "democrat_votes_x_county_data.to_csv(csv_file_path, index=False)"
   ]
  },
  {
   "cell_type": "code",
   "execution_count": 38,
   "metadata": {},
   "outputs": [],
   "source": [
    "democrat_votes_grouped_county = primary_results[primary_results['party'] == 'Democrat'].groupby('county').apply(max_votes_candidate).reset_index()\n",
    "county_data['state'] = county_data['state'].str.replace(\" County\", \"\")\n",
    "democrat_votes_grouped_county.rename(columns={'county': 'state'}, inplace=True)\n",
    "democrat_votes_x_county_data_county = pd.merge(democrat_votes_grouped_county, county_data, on='state', how='inner')"
   ]
  },
  {
   "cell_type": "code",
   "execution_count": 39,
   "metadata": {},
   "outputs": [
    {
     "data": {
      "text/plain": [
       "winner\n",
       "Hillary Clinton    1668\n",
       "Bernie Sanders     1224\n",
       "Name: count, dtype: int64"
      ]
     },
     "execution_count": 39,
     "metadata": {},
     "output_type": "execute_result"
    }
   ],
   "source": [
    "winner_counts_democrat = democrat_votes_x_county_data_county.winner.value_counts()\n",
    "winner_counts_democrat"
   ]
  },
  {
   "cell_type": "code",
   "execution_count": 27,
   "metadata": {},
   "outputs": [],
   "source": [
    "csv_file_path = \"democrat_votes_x_county_data_county.csv\"\n",
    "democrat_votes_x_county_data_county.to_csv(csv_file_path, index=False)"
   ]
  }
 ],
 "metadata": {
  "kernelspec": {
   "display_name": "Python 3",
   "language": "python",
   "name": "python3"
  },
  "language_info": {
   "codemirror_mode": {
    "name": "ipython",
    "version": 3
   },
   "file_extension": ".py",
   "mimetype": "text/x-python",
   "name": "python",
   "nbconvert_exporter": "python",
   "pygments_lexer": "ipython3",
   "version": "3.11.3"
  }
 },
 "nbformat": 4,
 "nbformat_minor": 2
}
